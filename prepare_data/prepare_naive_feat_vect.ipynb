{
 "cells": [
  {
   "cell_type": "code",
   "execution_count": 1,
   "metadata": {
    "collapsed": false
   },
   "outputs": [],
   "source": [
    "import os,subprocess\n",
    "workdir='/nagyvinyok/adat84/sotejedlik/ribli/expression/prepare_data'\n",
    "subprocess.call(['mkdir',workdir])\n",
    "os.chdir(workdir)\n",
    "\n",
    "\n",
    "import pandas as pd\n",
    "import numpy as np\n",
    "\n",
    "import matplotlib.pyplot as plt\n",
    "import matplotlib as mpl\n",
    "\n",
    "mpl.style.use('ggplot')\n",
    "%matplotlib inline"
   ]
  },
  {
   "cell_type": "markdown",
   "metadata": {},
   "source": [
    "### Filename tcga barcode mappings"
   ]
  },
  {
   "cell_type": "code",
   "execution_count": 2,
   "metadata": {
    "collapsed": false
   },
   "outputs": [],
   "source": [
    "fs_map=pd.read_csv('../data/brca_rnaseq/FILE_SAMPLE_MAP.txt',sep='\\t')\n",
    "fs_map=fs_map.iloc[:-1,:]\n",
    "fs_dict={}\n",
    "for i in xrange(len(fs_map)):\n",
    "    fs_dict[fs_map.iloc[i,0]]=fs_map.iloc[i,1]\n",
    "    \n",
    "    \n",
    "tum_dict={}\n",
    "for i in xrange(len(fs_map)):\n",
    "    if ( fs_map.iloc[i,1].split('-')[3][0]=='0'):\n",
    "        tum_dict[fs_map.iloc[i,0]]='tumor'\n",
    "    else:\n",
    "        tum_dict[fs_map.iloc[i,0]]='normal'"
   ]
  },
  {
   "cell_type": "markdown",
   "metadata": {},
   "source": [
    "### Load all normal data"
   ]
  },
  {
   "cell_type": "code",
   "execution_count": 3,
   "metadata": {
    "collapsed": true
   },
   "outputs": [],
   "source": [
    "datadir='../data/brca_rnaseq/RNASeqV2/UNC__IlluminaHiSeq_RNASeqV2/Level_3/'"
   ]
  },
  {
   "cell_type": "code",
   "execution_count": 5,
   "metadata": {
    "collapsed": false
   },
   "outputs": [
    {
     "name": "stdout",
     "output_type": "stream",
     "text": [
      " . . . . . . . . . . . . . . . . . . . . . . . . . . . . . . . . . . . . . . . . . . . . . . . . . . . . . . . . . . . . . . . . . . . . . . . . . . . . . . . . . . . . . . . . . . . . . . . . . . . . 100 . . . . . . . . . . . . . . . . . . . . . . . . . . . . . . . . . . . . . . . . . . . . . . . . . . . . . . . . . . . . . . . . . . . . . . . . . . . . . . . . . . . . . . . . . . . . . . . . . . . . 200 . . . . . . . . . . . . . . . . . . . . . . . . . . . . . . . . . . . . . . . . . . . . . . . . . . . . . . . . . . . . . . . . . . . . . . . . . . . . . . . . . . . . . . . . . . . . . . . . . . . . 300 . . . . . . . . . . . . . . . . . . . . . . . . . . . . . . . . . . . . . . . . . . . . . . . . . . . . . . . . . . . . . . . . . . . . . . . . . . . . . . . . . . . . . . . . . . . . . . . . . . . . 400 . . . . . . . . . . . . . . . . . . . . . . . . . . . . . . . . . . . . . . . . . . . . . . . . . . . . . . . . . . . . . . . . . . . . . . . . . . . . . . . . . . . . . . . . . . . . . . . . . . . . 500 . . . . . . . . . . . . . . . . . . . . . . . . . . . . . . . . . . . . . . . . . . . . . . . . . . . . . . . . . . . . . . . . . . . . . . . . . . . . . . . . . . . . . . . . . . . . . . . . . . . . 600 . . . . . . . . . . . . . . . . . . . . . . . . . . . . . . . . . . . . . . . . . . . . . . . . . . . . . . . . . . . . . . . . . . . . . . . . . . . . . . . . . . . . . . . . . . . . . . . . . . . . 700 . . . . . . . . . . . . . . . . . . . . . . . . . . . . . . . . . . . . . . . . . . . . . . . . . . . . . . . . . . . . . . . . . . . . . . . . . . . . . . . . . . . . . . . . . . . . . . . . . . . . 800 . . . . . . . . . . . . . . . . . . . . . . . . . . . . . . . . . . . . . . . . . . . . . . . . . . . . . . . . . . . . . . . . . . . . . . . . . . . . . . . . . . . . . . . . . . . . . . . . . . . . 900 . . . . . . . . . . . . . . . . . . . . . . . . . . . . . . . . . . . . . . . . . . . . . . . . . . . . . . . . . . . . . . . . . . . . . . . . . . . . . . . . . . . . . . . . . . . . . . . . . . . . 1000 . . . . . . . . . . . . . . . . . . . . . . . . . . . . . . . . . . . . . . . . . . . . . . . . . . . . . . . . . . . . . . . . . . . . . . . . . . . . . . . . . . . . . . . . . . . . . . . . . . . . 1100 . . . . . . . . . . . . . . . . . . . . . . . . . . . . . . . . . . . . . . . . . . . . . . . . . . . . . . . . . . . . . . . . . . . . . . . . . . . . . . . . . . . . . . . . . . . . . . . . . . . . 1200 . . . . . . . . . . . . . . .\n"
     ]
    }
   ],
   "source": [
    "import gc\n",
    "import os\n",
    "from glob import glob\n",
    "\n",
    "norm_list=[]\n",
    "gene_df=pd.DataFrame()\n",
    "i=0\n",
    "for filename in glob(datadir+'*exon_quantification.txt'):\n",
    "    fname=os.path.basename(filename)\n",
    "    \n",
    "    if tum_dict[fname]!='tumor':\n",
    "        tmp_df=pd.read_csv(filename, sep='\\t',header=0)\n",
    "        gene_df=tmp_df.exon\n",
    "        norm_list.append(tmp_df[['RPKM']])\n",
    "        \n",
    "    print '.',\n",
    "    i+=1\n",
    "    if i%100==0:\n",
    "        print i,\n",
    "    gc.collect()"
   ]
  },
  {
   "cell_type": "markdown",
   "metadata": {},
   "source": [
    "### Create normal data matrix"
   ]
  },
  {
   "cell_type": "code",
   "execution_count": 6,
   "metadata": {
    "collapsed": false
   },
   "outputs": [],
   "source": [
    "n_data_matrix=pd.concat([gene_df]+norm_list,axis=1)"
   ]
  },
  {
   "cell_type": "markdown",
   "metadata": {},
   "source": [
    "### discard the absolutely not mapped regions"
   ]
  },
  {
   "cell_type": "code",
   "execution_count": 7,
   "metadata": {
    "collapsed": false
   },
   "outputs": [
    {
     "name": "stdout",
     "output_type": "stream",
     "text": [
      "234058\n"
     ]
    }
   ],
   "source": [
    "idx=n_data_matrix.drop('exon',axis=1).mean(axis=1)!=0\n",
    "print np.sum(idx)"
   ]
  },
  {
   "cell_type": "markdown",
   "metadata": {},
   "source": [
    "### Check mean,std"
   ]
  },
  {
   "cell_type": "code",
   "execution_count": 11,
   "metadata": {
    "collapsed": false
   },
   "outputs": [],
   "source": [
    "import seaborn as sns"
   ]
  },
  {
   "cell_type": "code",
   "execution_count": 10,
   "metadata": {
    "collapsed": false
   },
   "outputs": [
    {
     "data": {
      "image/png": "[encoded data removed]",
      "text/plain": [
       "<matplotlib.figure.Figure at 0x7fb2cc5ed810>"
      ]
     },
     "metadata": {},
     "output_type": "display_data"
    }
   ],
   "source": [
    "fig=plt.figure(figsize=(12,6))\n",
    "ax=fig.add_subplot(111)\n",
    "dump=sns.distplot(np.log(n_data_matrix.drop('exon',axis=1).mean(axis=1)[idx]),\n",
    "                  hist=True,kde=True,bins=100,label='mean')\n",
    "dump=sns.distplot(np.log(n_data_matrix.drop('exon',axis=1).std(axis=1)[idx]),\n",
    "                  hist=True,kde=True,bins=100,label='std')\n",
    "plt.xlim(-10,7)\n",
    "dump=ax.legend()"
   ]
  },
  {
   "cell_type": "markdown",
   "metadata": {},
   "source": [
    "### Create log mean rpkm dataframe"
   ]
  },
  {
   "cell_type": "code",
   "execution_count": 12,
   "metadata": {
    "collapsed": false
   },
   "outputs": [
    {
     "data": {
      "text/html": [
       "<div style=\"max-height:1000px;max-width:1500px;overflow:auto;\">\n",
       "<table border=\"1\" class=\"dataframe\">\n",
       "  <thead>\n",
       "    <tr style=\"text-align: right;\">\n",
       "      <th></th>\n",
       "      <th>exon</th>\n",
       "      <th>log_mean_rpkm</th>\n",
       "      <th>chrom</th>\n",
       "      <th>strand</th>\n",
       "      <th>start</th>\n",
       "      <th>end</th>\n",
       "    </tr>\n",
       "  </thead>\n",
       "  <tbody>\n",
       "    <tr>\n",
       "      <th>0</th>\n",
       "      <td> chr1:11874-12227:+</td>\n",
       "      <td>-1.290285</td>\n",
       "      <td> chr1</td>\n",
       "      <td> +</td>\n",
       "      <td> 11874</td>\n",
       "      <td> 12227</td>\n",
       "    </tr>\n",
       "    <tr>\n",
       "      <th>1</th>\n",
       "      <td> chr1:12595-12721:+</td>\n",
       "      <td>-1.442067</td>\n",
       "      <td> chr1</td>\n",
       "      <td> +</td>\n",
       "      <td> 12595</td>\n",
       "      <td> 12721</td>\n",
       "    </tr>\n",
       "    <tr>\n",
       "      <th>2</th>\n",
       "      <td> chr1:12613-12721:+</td>\n",
       "      <td>-1.310520</td>\n",
       "      <td> chr1</td>\n",
       "      <td> +</td>\n",
       "      <td> 12613</td>\n",
       "      <td> 12721</td>\n",
       "    </tr>\n",
       "    <tr>\n",
       "      <th>3</th>\n",
       "      <td> chr1:12646-12697:+</td>\n",
       "      <td>-0.890017</td>\n",
       "      <td> chr1</td>\n",
       "      <td> +</td>\n",
       "      <td> 12646</td>\n",
       "      <td> 12697</td>\n",
       "    </tr>\n",
       "    <tr>\n",
       "      <th>4</th>\n",
       "      <td> chr1:13221-14409:+</td>\n",
       "      <td>-0.501733</td>\n",
       "      <td> chr1</td>\n",
       "      <td> +</td>\n",
       "      <td> 13221</td>\n",
       "      <td> 14409</td>\n",
       "    </tr>\n",
       "  </tbody>\n",
       "</table>\n",
       "</div>"
      ],
      "text/plain": [
       "                 exon  log_mean_rpkm chrom strand  start    end\n",
       "0  chr1:11874-12227:+      -1.290285  chr1      +  11874  12227\n",
       "1  chr1:12595-12721:+      -1.442067  chr1      +  12595  12721\n",
       "2  chr1:12613-12721:+      -1.310520  chr1      +  12613  12721\n",
       "3  chr1:12646-12697:+      -0.890017  chr1      +  12646  12697\n",
       "4  chr1:13221-14409:+      -0.501733  chr1      +  13221  14409"
      ]
     },
     "execution_count": 12,
     "metadata": {},
     "output_type": "execute_result"
    }
   ],
   "source": [
    "final_df=pd.concat([gene_df[idx],np.log(n_data_matrix.drop('exon',axis=1).mean(axis=1))[idx]],axis=1)\n",
    "final_df.columns=['exon','log_mean_rpkm']\n",
    "\n",
    "final_df['chrom']=[x.split(':')[0] for x in final_df.exon]\n",
    "final_df['strand']=[x.split(':')[2] for x in final_df.exon]\n",
    "final_df['start']=[int(x.split(':')[1].split('-')[0]) for x in final_df.exon]\n",
    "final_df['end']=[int(x.split(':')[1].split('-')[1]) for x in final_df.exon]\n",
    "\n",
    "final_df.head()"
   ]
  },
  {
   "cell_type": "markdown",
   "metadata": {},
   "source": [
    "#### Exclude this \"chromosome\""
   ]
  },
  {
   "cell_type": "code",
   "execution_count": 13,
   "metadata": {
    "collapsed": false
   },
   "outputs": [],
   "source": [
    "idx=final_df.chrom != 'chrM_rCRS'\n",
    "final_df=final_df[idx]"
   ]
  },
  {
   "cell_type": "markdown",
   "metadata": {},
   "source": [
    "## Create naive feature vectors"
   ]
  },
  {
   "cell_type": "code",
   "execution_count": 14,
   "metadata": {
    "collapsed": true
   },
   "outputs": [],
   "source": [
    "from Bio import SeqIO\n",
    "from Bio.Seq import Seq\n",
    "#load fasta file in one piece\n",
    "ref_dict=SeqIO.to_dict(SeqIO.parse(\n",
    "        '/home/ribli/input/Homo_sapiens.GRCh37.75.dna_sm.primary_assembly.fa',\"fasta\"))"
   ]
  },
  {
   "cell_type": "code",
   "execution_count": 15,
   "metadata": {
    "collapsed": true
   },
   "outputs": [],
   "source": [
    "def exon_to_csv(input_df,output_fname,ref_dict,plus=100,minus=100):\n",
    "    \"\"\"\n",
    "    Create relatively small csv files from pandas df of probes.\n",
    "    \n",
    "    Used in naive prediction as feauture vectors.\n",
    "    \"\"\"\n",
    "\n",
    "    with open(output_fname,'w') as out_f:\n",
    "        for i in xrange(len(input_df)):\n",
    "            out_f.write(make_naive_line(input_df.iloc[i,:],ref_dict,plus,minus))\n",
    "                \n",
    "def make_naive_line(line,ref_dict,plus,minus):\n",
    "    \"\"\"Transform annotation line into naive feature vector line.\"\"\"\n",
    "    exon,log_mean_rpkm,chrom,strand,start,end=line\n",
    "    \n",
    "    chrom=chrom[3:]\n",
    "\n",
    "    #seq depending on strand\n",
    "    if strand==\"+\":\n",
    "        out_line = '\\t'.join([exon]+map(base_to_num,ref_dict[chrom].seq[\n",
    "                        start-minus:start+plus]))\n",
    "    elif strand==\"-\":\n",
    "        out_line = '\\t'.join([exon]+map(base_to_num,ref_dict[chrom].seq[\n",
    "                        end-minus:end+plus].reverse_complement()))\n",
    "        \n",
    "    out_line+='\\t'+str(log_mean_rpkm)+'\\n'\n",
    "    return out_line\n",
    "                \n",
    "\n",
    "def base_to_num(base):\n",
    "    \"\"\"\n",
    "    Return a small unique number for each base.\n",
    "    \n",
    "    Doing this to turn categorical data into numeric ones.\n",
    "    Should be checked, if the choice of order makes difference!\n",
    "    \n",
    "    \"\"\"\n",
    "\n",
    "    if (base =='a' or base=='A'):\n",
    "        return '1'\n",
    "    if (base =='c' or base=='C'):\n",
    "        return '2'\n",
    "    if (base =='g' or base=='G'):\n",
    "        return '3'\n",
    "    if (base =='t' or base=='T'):\n",
    "        return '4'\n",
    "    else:\n",
    "        return '0'"
   ]
  },
  {
   "cell_type": "code",
   "execution_count": 16,
   "metadata": {
    "collapsed": false
   },
   "outputs": [],
   "source": [
    "out_fname='naive_feat_vect.csv'\n",
    "exon_to_csv(final_df,output_fname=out_fname,ref_dict=ref_dict,plus=100,minus=500)"
   ]
  },
  {
   "cell_type": "code",
   "execution_count": 17,
   "metadata": {
    "collapsed": false
   },
   "outputs": [
    {
     "name": "stdout",
     "output_type": "stream",
     "text": [
      "chr1:11874-12227:+\t3\t4\t2\t2\t4\t2\t4\t4\t3\t2\t4\t2\t1\t1\t3\t3\t4\t3\t4\t1\t3\t4\t3\t3\t2\t1\t3\t2\t1\t2\t3\t2\t2\t2\t1\t2\t2\t4\t3\t2\t4\t3\t3\t2\t1\t3\t2\t4\t3\t3\t3\t3\t1\t2\t1\t2\t4\t3\t2\t2\t3\t3\t3\t2\t2\t2\t4\t2\t4\t4\t3\t2\t4\t2\t2\t1\t1\t2\t1\t3\t4\t1\t2\t4\t3\t3\t2\t3\t3\t1\t4\t4\t1\t4\t1\t3\t3\t3\t1\t1\t1\t2\t1\t2\t2\t2\t3\t3\t1\t3\t2\t1\t4\t1\t4\t3\t2\t4\t3\t4\t4\t4\t3\t3\t4\t2\t4\t2\t1\t3\t4\t1\t3\t1\t2\t4\t2\t2\t4\t1\t1\t1\t4\t1\t4\t3\t3\t3\t1\t4\t4\t2\t2\t4\t3\t3\t3\t4\t4\t4\t1\t1\t1\t1\t3\t4\t1\t1\t1\t1\t1\t1\t4\t1\t1\t1\t4\t1\t4\t3\t4\t4\t4\t1\t1\t4\t4\t4\t3\t4\t3\t1\t1\t2\t4\t3\t1\t4\t4\t1\t2\t2\t1\t4\t2\t1\t3\t1\t1\t4\t4\t3\t4\t1\t2\t4\t3\t4\t4\t2\t4\t3\t4\t1\t4\t2\t2\t2\t1\t2\t2\t1\t3\t2\t1\t1\t4\t3\t4\t2\t4\t1\t3\t3\t1\t1\t4\t3\t2\t2\t4\t3\t4\t4\t4\t2\t4\t2\t2\t1\t2\t1\t1\t1\t3\t4\t3\t4\t4\t4\t1\t2\t4\t4\t4\t4\t3\t3\t1\t4\t4\t4\t4\t4\t3\t2\t2\t1\t3\t4\t2\t4\t1\t1\t2\t1\t3\t3\t4\t3\t1\t1\t3\t2\t2\t2\t4\t3\t3\t1\t3\t1\t4\t4\t2\t4\t4\t1\t4\t4\t1\t3\t4\t3\t1\t4\t4\t4\t3\t3\t3\t2\t4\t3\t3\t3\t3\t2\t2\t4\t3\t3\t2\t2\t1\t4\t3\t4\t3\t4\t1\t4\t4\t4\t4\t4\t4\t4\t1\t1\t1\t4\t4\t4\t2\t2\t1\t2\t4\t3\t1\t4\t3\t1\t4\t4\t4\t4\t3\t2\t4\t3\t2\t1\t4\t3\t3\t2\t2\t3\t3\t4\t3\t4\t4\t3\t1\t3\t1\t1\t4\t3\t1\t2\t4\t3\t2\t3\t2\t1\t1\t1\t4\t4\t4\t3\t2\t2\t3\t3\t1\t4\t4\t4\t2\t2\t4\t4\t4\t3\t2\t4\t3\t4\t4\t2\t2\t4\t3\t2\t1\t4\t3\t4\t1\t3\t4\t4\t4\t1\t1\t1\t2\t3\t1\t3\t1\t4\t4\t3\t2\t2\t1\t3\t2\t1\t2\t2\t3\t3\t3\t4\t1\t4\t2\t1\t4\t4\t2\t1\t2\t2\t1\t4\t4\t4\t4\t4\t2\t4\t4\t4\t4\t2\t3\t4\t4\t1\t1\t2\t4\t4\t3\t2\t2\t3\t4\t2\t1\t3\t2\t2\t4\t4\t4\t4\t2\t4\t4\t4\t3\t1\t2\t2\t4\t2\t4\t4\t2\t4\t4\t4\t2\t4\t3\t4\t4\t2\t1\t4\t3\t4\t3\t4\t1\t4\t4\t4\t3\t2\t4\t3\t4\t2\t4\t2\t4\t4\t1\t3\t2\t2\t2\t1\t3\t1\t2\t4\t4\t2\t2\t2\t3\t4\t3\t4\t2\t2\t4\t4\t4\t2\t2\t1\t2\t2\t3\t3\t3\t2\t2\t4\t4\t4\t3\t1\t3\t1\t3\t3\t-1.2902850186\n"
     ]
    }
   ],
   "source": [
    "%%bash\n",
    "head -n 1 naive_feat_vect.csv"
   ]
  }
 ],
 "metadata": {
  "kernelspec": {
   "display_name": "Python 2",
   "language": "python",
   "name": "python2"
  },
  "language_info": {
   "codemirror_mode": {
    "name": "ipython",
    "version": 2
   },
   "file_extension": ".py",
   "mimetype": "text/x-python",
   "name": "python",
   "nbconvert_exporter": "python",
   "pygments_lexer": "ipython2",
   "version": "2.7.9"
  }
 },
 "nbformat": 4,
 "nbformat_minor": 0
}
